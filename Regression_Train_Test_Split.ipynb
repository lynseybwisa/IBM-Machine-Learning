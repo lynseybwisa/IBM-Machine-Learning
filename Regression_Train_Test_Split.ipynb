{
  "cells": [
    {
      "cell_type": "markdown",
      "metadata": {
        "id": "0sRM3O7RR1p1"
      },
      "source": [
        "# Machine Learning Foundation\n",
        "\n",
        "## Course 2, Part b: Regression Setup, Train-test Split LAB\n"
      ]
    },
    {
      "cell_type": "markdown",
      "metadata": {
        "run_control": {
          "marked": true
        },
        "id": "qfRN23zVR1qM"
      },
      "source": [
        "## Introduction\n",
        "\n",
        "We will be working with a data set based on [housing prices in Ames, Iowa](https://www.kaggle.com/c/house-prices-advanced-regression-techniques?utm_medium=Exinfluencer&utm_source=Exinfluencer&utm_content=000026UJ&utm_term=10006555&utm_id=NA-SkillsNetwork-Channel-SkillsNetworkCoursesIBMML240ENSkillsNetwork783-2023-01-01). It was compiled for educational use to be a modernized and expanded alternative to the well-known Boston Housing dataset. This version of the data set has had some missing values filled for convenience.\n",
        "\n",
        "There are an extensive number of features, so they've been described in the table below.\n",
        "\n",
        "### Predictor\n",
        "\n",
        "* SalePrice: The property's sale price in dollars.\n",
        "\n",
        "### Features\n",
        "\n",
        "* MoSold: Month Sold\n",
        "* YrSold: Year Sold   \n",
        "* SaleType: Type of sale\n",
        "* SaleCondition: Condition of sale\n",
        "* MSSubClass: The building class\n",
        "* MSZoning: The general zoning classification\n",
        "* ...\n"
      ]
    },
    {
      "cell_type": "code",
      "execution_count": 1,
      "metadata": {
        "ExecuteTime": {
          "end_time": "2017-03-09T17:24:40.724060Z",
          "start_time": "2017-03-09T12:24:40.718739-05:00"
        },
        "run_control": {
          "marked": true
        },
        "id": "P1uIDhmoR1qN"
      },
      "outputs": [],
      "source": [
        "# Surpress warnings:\n",
        "def warn(*args, **kwargs):\n",
        "    pass\n",
        "import warnings\n",
        "warnings.warn = warn"
      ]
    },
    {
      "cell_type": "markdown",
      "metadata": {
        "run_control": {
          "marked": true
        },
        "id": "9E9Dta-XR1qQ"
      },
      "source": [
        "## Question 1\n",
        "\n",
        "* Import the data using Pandas and examine the shape. There are 79 feature columns plus the predictor, the sale price (`SalePrice`).\n",
        "* There are three different types: integers (`int64`), floats (`float64`), and strings (`object`, categoricals). Examine how many there are of each data type.\n"
      ]
    },
    {
      "cell_type": "code",
      "execution_count": 2,
      "metadata": {
        "jupyter": {
          "outputs_hidden": false
        },
        "run_control": {
          "marked": true
        },
        "colab": {
          "base_uri": "https://localhost:8080/"
        },
        "id": "G1GuHPL2R1qR",
        "outputId": "75dac951-2cd0-4511-a2bd-7369b0775f64"
      },
      "outputs": [
        {
          "output_type": "stream",
          "name": "stdout",
          "text": [
            "(1379, 80)\n"
          ]
        }
      ],
      "source": [
        "import pandas as pd\n",
        "import numpy as np\n",
        "\n",
        "# Import the data using the file path\n",
        "data = pd.read_csv(\"https://cf-courses-data.s3.us.cloud-object-storage.appdomain.cloud/IBM-ML240EN-SkillsNetwork/labs/data/Ames_Housing_Sales.csv\")\n",
        "data.head()\n",
        "\n",
        "\n",
        "print(data.shape)"
      ]
    },
    {
      "cell_type": "code",
      "execution_count": 3,
      "metadata": {
        "jupyter": {
          "outputs_hidden": false
        },
        "run_control": {
          "marked": true
        },
        "colab": {
          "base_uri": "https://localhost:8080/"
        },
        "id": "NxZz24UNR1qS",
        "outputId": "64d37cf5-450e-4fd3-fdab-e4c9ad0c9eab"
      },
      "outputs": [
        {
          "output_type": "execute_result",
          "data": {
            "text/plain": [
              "object     43\n",
              "float64    21\n",
              "int64      16\n",
              "dtype: int64"
            ]
          },
          "metadata": {},
          "execution_count": 3
        }
      ],
      "source": [
        "data.dtypes.value_counts()"
      ]
    },
    {
      "cell_type": "markdown",
      "metadata": {
        "run_control": {
          "marked": true
        },
        "id": "l_-AvCsaR1qU"
      },
      "source": [
        "## Question 2\n",
        "\n",
        "A significant challenge, particularly when dealing with data that have many columns, is ensuring each column gets encoded correctly.\n",
        "\n",
        "This is particularly true with data columns that are ordered categoricals (ordinals) vs unordered categoricals. Unordered categoricals should be one-hot encoded, however this can significantly increase the number of features and creates features that are highly correlated with each other.\n",
        "\n",
        "Determine how many total features would be present, relative to what currently exists, if all string (object) features are one-hot encoded. Recall that the total number of one-hot encoded columns is `n-1`, where `n` is the number of categories.\n"
      ]
    },
    {
      "cell_type": "code",
      "execution_count": 6,
      "metadata": {
        "jupyter": {
          "outputs_hidden": false
        },
        "run_control": {
          "marked": true
        },
        "id": "G8NfxFfdR1qV"
      },
      "outputs": [],
      "source": [
        "# Select the object (string) columns\n",
        "mask = data.dtypes == np.object\n",
        "categorical_cols = data.columns[mask]"
      ]
    },
    {
      "cell_type": "code",
      "source": [
        "data[categorical_cols].apply(lambda x: x.nunique())"
      ],
      "metadata": {
        "colab": {
          "base_uri": "https://localhost:8080/"
        },
        "id": "pKz04cIgXOBx",
        "outputId": "7cf65683-e476-41eb-f902-bdba67a8fc95"
      },
      "execution_count": 8,
      "outputs": [
        {
          "output_type": "execute_result",
          "data": {
            "text/plain": [
              "Alley             3\n",
              "BldgType          5\n",
              "BsmtCond          4\n",
              "BsmtExposure      5\n",
              "BsmtFinType1      6\n",
              "BsmtFinType2      7\n",
              "BsmtQual          5\n",
              "CentralAir        2\n",
              "Condition1        9\n",
              "Condition2        8\n",
              "Electrical        5\n",
              "ExterCond         4\n",
              "ExterQual         4\n",
              "Exterior1st      14\n",
              "Exterior2nd      16\n",
              "Fence             5\n",
              "FireplaceQu       6\n",
              "Foundation        6\n",
              "Functional        7\n",
              "GarageCond        5\n",
              "GarageFinish      3\n",
              "GarageQual        5\n",
              "GarageType        6\n",
              "Heating           6\n",
              "HeatingQC         5\n",
              "HouseStyle        8\n",
              "KitchenQual       4\n",
              "LandContour       4\n",
              "LandSlope         3\n",
              "LotConfig         5\n",
              "LotShape          4\n",
              "MSZoning          5\n",
              "MasVnrType        4\n",
              "MiscFeature       5\n",
              "Neighborhood     25\n",
              "PavedDrive        3\n",
              "PoolQC            4\n",
              "RoofMatl          8\n",
              "RoofStyle         6\n",
              "SaleCondition     6\n",
              "SaleType          9\n",
              "Street            2\n",
              "Utilities         2\n",
              "dtype: int64"
            ]
          },
          "metadata": {},
          "execution_count": 8
        }
      ]
    },
    {
      "cell_type": "code",
      "execution_count": 9,
      "metadata": {
        "jupyter": {
          "outputs_hidden": false
        },
        "run_control": {
          "marked": true
        },
        "colab": {
          "base_uri": "https://localhost:8080/"
        },
        "id": "CTat6l0ER1qW",
        "outputId": "4108b275-9b86-4648-a1d0-6256decc2371"
      },
      "outputs": [
        {
          "output_type": "execute_result",
          "data": {
            "text/plain": [
              "215"
            ]
          },
          "metadata": {},
          "execution_count": 9
        }
      ],
      "source": [
        "# Determine how many extra columns would be created\n",
        "num_ohc_cols = (data[categorical_cols]\n",
        "                .apply(lambda x: x.nunique())\n",
        "                .sort_values(ascending=False))\n",
        "\n",
        "\n",
        "# No need to encode if there is only one value\n",
        "small_num_ohc_cols = num_ohc_cols.loc[num_ohc_cols>1]\n",
        "\n",
        "# Number of one-hot columns is one less than the number of categories\n",
        "small_num_ohc_cols -= 1\n",
        "\n",
        "# This is 215 columns, assuming the original ones are dropped.\n",
        "# This is quite a few extra columns!\n",
        "small_num_ohc_cols.sum()"
      ]
    },
    {
      "cell_type": "markdown",
      "source": [
        "- This shows 215 columns will be created after one hot encoding the categorical values... which is a lot."
      ],
      "metadata": {
        "id": "GuLtYYiKYgqx"
      }
    },
    {
      "cell_type": "markdown",
      "metadata": {
        "run_control": {
          "marked": true
        },
        "id": "1gV3UuCNR1qX"
      },
      "source": [
        "## Question 3\n",
        "\n",
        "Let's create a new data set where all of the above categorical features will be one-hot encoded. We can fit this data and see how it affects the results.\n",
        "\n",
        "* Used the dataframe `.copy()` method to create a completely separate copy of the dataframe for one-hot encoding\n",
        "* On this new dataframe, one-hot encode each of the appropriate columns and add it back to the dataframe. Be sure to drop the original column.\n",
        "* For the data that are not one-hot encoded, drop the columns that are string categoricals.\n",
        "\n",
        "For the first step, numerically encoding the string categoricals, either Scikit-learn's `LabelEncoder` or `DictVectorizer` can be used. However, the former is probably easier since it doesn't require specifying a numerical value for each category, and we are going to one-hot encode all of the numerical values anyway. (Can you think of a time when `DictVectorizer` might be preferred?)\n"
      ]
    },
    {
      "cell_type": "code",
      "source": [
        "from sklearn.preprocessing import OneHotEncoder, LabelEncoder\n",
        "\n",
        "# Copy of the data\n",
        "data_ohc = data.copy()"
      ],
      "metadata": {
        "id": "tEsmmB7rdN3x"
      },
      "execution_count": 17,
      "outputs": []
    },
    {
      "cell_type": "code",
      "source": [
        "# The encoders\n",
        "le = LabelEncoder()\n",
        "ohc = OneHotEncoder()"
      ],
      "metadata": {
        "id": "--CNuVAPdXXN"
      },
      "execution_count": 18,
      "outputs": []
    },
    {
      "cell_type": "code",
      "execution_count": 19,
      "metadata": {
        "jupyter": {
          "outputs_hidden": false
        },
        "run_control": {
          "marked": true
        },
        "id": "G6zndLWnR1qY"
      },
      "outputs": [],
      "source": [
        "for col in num_ohc_cols.index:\n",
        "\n",
        "    #convert the string categories into integers.\n",
        "    dat = le.fit_transform(data_ohc[col]).astype(np.int)\n",
        "\n",
        "    # Remove the original column from the dataframe\n",
        "    data_ohc = data_ohc.drop(col, axis=1)\n",
        "\n",
        "    # One hot encode the data--this returns a sparse array\n",
        "    new_dat = ohc.fit_transform(dat.reshape(-1,1))\n",
        "\n",
        "    # Create unique column names\n",
        "    n_cols = new_dat.shape[1]\n",
        "    col_names = ['_'.join([col, str(x)]) for x in range(n_cols)]\n",
        "\n",
        "    # Create the new dataframe\n",
        "    new_df = pd.DataFrame(new_dat.toarray(),\n",
        "                          index=data_ohc.index,\n",
        "                          columns=col_names)\n",
        "\n",
        "    # Append the new data to the dataframe\n",
        "    data_ohc = pd.concat([data_ohc, new_df], axis=1)"
      ]
    },
    {
      "cell_type": "code",
      "source": [
        "data_ohc.head()"
      ],
      "metadata": {
        "colab": {
          "base_uri": "https://localhost:8080/",
          "height": 256
        },
        "id": "ua2xs8EJeL-p",
        "outputId": "a18598e2-e74c-4d40-b2f8-50f7d6ac5d60"
      },
      "execution_count": 21,
      "outputs": [
        {
          "output_type": "execute_result",
          "data": {
            "text/plain": [
              "   1stFlrSF  2ndFlrSF  3SsnPorch  BedroomAbvGr  BsmtFinSF1  BsmtFinSF2  \\\n",
              "0     856.0     854.0        0.0             3       706.0         0.0   \n",
              "1    1262.0       0.0        0.0             3       978.0         0.0   \n",
              "2     920.0     866.0        0.0             3       486.0         0.0   \n",
              "3     961.0     756.0        0.0             3       216.0         0.0   \n",
              "4    1145.0    1053.0        0.0             4       655.0         0.0   \n",
              "\n",
              "   BsmtFullBath  BsmtHalfBath  BsmtUnfSF  EnclosedPorch  ...  LandSlope_2  \\\n",
              "0             1             0      150.0            0.0  ...          0.0   \n",
              "1             0             1      284.0            0.0  ...          0.0   \n",
              "2             1             0      434.0            0.0  ...          0.0   \n",
              "3             1             0      540.0          272.0  ...          0.0   \n",
              "4             1             0      490.0            0.0  ...          0.0   \n",
              "\n",
              "   GarageFinish_0  GarageFinish_1  GarageFinish_2  CentralAir_0  CentralAir_1  \\\n",
              "0             0.0             1.0             0.0           0.0           1.0   \n",
              "1             0.0             1.0             0.0           0.0           1.0   \n",
              "2             0.0             1.0             0.0           0.0           1.0   \n",
              "3             0.0             0.0             1.0           0.0           1.0   \n",
              "4             0.0             1.0             0.0           0.0           1.0   \n",
              "\n",
              "   Street_0  Street_1  Utilities_0  Utilities_1  \n",
              "0       0.0       1.0          1.0          0.0  \n",
              "1       0.0       1.0          1.0          0.0  \n",
              "2       0.0       1.0          1.0          0.0  \n",
              "3       0.0       1.0          1.0          0.0  \n",
              "4       0.0       1.0          1.0          0.0  \n",
              "\n",
              "[5 rows x 295 columns]"
            ],
            "text/html": [
              "\n",
              "  <div id=\"df-eb4c11d5-adfb-43c7-afba-792199fcf29e\" class=\"colab-df-container\">\n",
              "    <div>\n",
              "<style scoped>\n",
              "    .dataframe tbody tr th:only-of-type {\n",
              "        vertical-align: middle;\n",
              "    }\n",
              "\n",
              "    .dataframe tbody tr th {\n",
              "        vertical-align: top;\n",
              "    }\n",
              "\n",
              "    .dataframe thead th {\n",
              "        text-align: right;\n",
              "    }\n",
              "</style>\n",
              "<table border=\"1\" class=\"dataframe\">\n",
              "  <thead>\n",
              "    <tr style=\"text-align: right;\">\n",
              "      <th></th>\n",
              "      <th>1stFlrSF</th>\n",
              "      <th>2ndFlrSF</th>\n",
              "      <th>3SsnPorch</th>\n",
              "      <th>BedroomAbvGr</th>\n",
              "      <th>BsmtFinSF1</th>\n",
              "      <th>BsmtFinSF2</th>\n",
              "      <th>BsmtFullBath</th>\n",
              "      <th>BsmtHalfBath</th>\n",
              "      <th>BsmtUnfSF</th>\n",
              "      <th>EnclosedPorch</th>\n",
              "      <th>...</th>\n",
              "      <th>LandSlope_2</th>\n",
              "      <th>GarageFinish_0</th>\n",
              "      <th>GarageFinish_1</th>\n",
              "      <th>GarageFinish_2</th>\n",
              "      <th>CentralAir_0</th>\n",
              "      <th>CentralAir_1</th>\n",
              "      <th>Street_0</th>\n",
              "      <th>Street_1</th>\n",
              "      <th>Utilities_0</th>\n",
              "      <th>Utilities_1</th>\n",
              "    </tr>\n",
              "  </thead>\n",
              "  <tbody>\n",
              "    <tr>\n",
              "      <th>0</th>\n",
              "      <td>856.0</td>\n",
              "      <td>854.0</td>\n",
              "      <td>0.0</td>\n",
              "      <td>3</td>\n",
              "      <td>706.0</td>\n",
              "      <td>0.0</td>\n",
              "      <td>1</td>\n",
              "      <td>0</td>\n",
              "      <td>150.0</td>\n",
              "      <td>0.0</td>\n",
              "      <td>...</td>\n",
              "      <td>0.0</td>\n",
              "      <td>0.0</td>\n",
              "      <td>1.0</td>\n",
              "      <td>0.0</td>\n",
              "      <td>0.0</td>\n",
              "      <td>1.0</td>\n",
              "      <td>0.0</td>\n",
              "      <td>1.0</td>\n",
              "      <td>1.0</td>\n",
              "      <td>0.0</td>\n",
              "    </tr>\n",
              "    <tr>\n",
              "      <th>1</th>\n",
              "      <td>1262.0</td>\n",
              "      <td>0.0</td>\n",
              "      <td>0.0</td>\n",
              "      <td>3</td>\n",
              "      <td>978.0</td>\n",
              "      <td>0.0</td>\n",
              "      <td>0</td>\n",
              "      <td>1</td>\n",
              "      <td>284.0</td>\n",
              "      <td>0.0</td>\n",
              "      <td>...</td>\n",
              "      <td>0.0</td>\n",
              "      <td>0.0</td>\n",
              "      <td>1.0</td>\n",
              "      <td>0.0</td>\n",
              "      <td>0.0</td>\n",
              "      <td>1.0</td>\n",
              "      <td>0.0</td>\n",
              "      <td>1.0</td>\n",
              "      <td>1.0</td>\n",
              "      <td>0.0</td>\n",
              "    </tr>\n",
              "    <tr>\n",
              "      <th>2</th>\n",
              "      <td>920.0</td>\n",
              "      <td>866.0</td>\n",
              "      <td>0.0</td>\n",
              "      <td>3</td>\n",
              "      <td>486.0</td>\n",
              "      <td>0.0</td>\n",
              "      <td>1</td>\n",
              "      <td>0</td>\n",
              "      <td>434.0</td>\n",
              "      <td>0.0</td>\n",
              "      <td>...</td>\n",
              "      <td>0.0</td>\n",
              "      <td>0.0</td>\n",
              "      <td>1.0</td>\n",
              "      <td>0.0</td>\n",
              "      <td>0.0</td>\n",
              "      <td>1.0</td>\n",
              "      <td>0.0</td>\n",
              "      <td>1.0</td>\n",
              "      <td>1.0</td>\n",
              "      <td>0.0</td>\n",
              "    </tr>\n",
              "    <tr>\n",
              "      <th>3</th>\n",
              "      <td>961.0</td>\n",
              "      <td>756.0</td>\n",
              "      <td>0.0</td>\n",
              "      <td>3</td>\n",
              "      <td>216.0</td>\n",
              "      <td>0.0</td>\n",
              "      <td>1</td>\n",
              "      <td>0</td>\n",
              "      <td>540.0</td>\n",
              "      <td>272.0</td>\n",
              "      <td>...</td>\n",
              "      <td>0.0</td>\n",
              "      <td>0.0</td>\n",
              "      <td>0.0</td>\n",
              "      <td>1.0</td>\n",
              "      <td>0.0</td>\n",
              "      <td>1.0</td>\n",
              "      <td>0.0</td>\n",
              "      <td>1.0</td>\n",
              "      <td>1.0</td>\n",
              "      <td>0.0</td>\n",
              "    </tr>\n",
              "    <tr>\n",
              "      <th>4</th>\n",
              "      <td>1145.0</td>\n",
              "      <td>1053.0</td>\n",
              "      <td>0.0</td>\n",
              "      <td>4</td>\n",
              "      <td>655.0</td>\n",
              "      <td>0.0</td>\n",
              "      <td>1</td>\n",
              "      <td>0</td>\n",
              "      <td>490.0</td>\n",
              "      <td>0.0</td>\n",
              "      <td>...</td>\n",
              "      <td>0.0</td>\n",
              "      <td>0.0</td>\n",
              "      <td>1.0</td>\n",
              "      <td>0.0</td>\n",
              "      <td>0.0</td>\n",
              "      <td>1.0</td>\n",
              "      <td>0.0</td>\n",
              "      <td>1.0</td>\n",
              "      <td>1.0</td>\n",
              "      <td>0.0</td>\n",
              "    </tr>\n",
              "  </tbody>\n",
              "</table>\n",
              "<p>5 rows × 295 columns</p>\n",
              "</div>\n",
              "    <div class=\"colab-df-buttons\">\n",
              "\n",
              "  <div class=\"colab-df-container\">\n",
              "    <button class=\"colab-df-convert\" onclick=\"convertToInteractive('df-eb4c11d5-adfb-43c7-afba-792199fcf29e')\"\n",
              "            title=\"Convert this dataframe to an interactive table.\"\n",
              "            style=\"display:none;\">\n",
              "\n",
              "  <svg xmlns=\"http://www.w3.org/2000/svg\" height=\"24px\" viewBox=\"0 -960 960 960\">\n",
              "    <path d=\"M120-120v-720h720v720H120Zm60-500h600v-160H180v160Zm220 220h160v-160H400v160Zm0 220h160v-160H400v160ZM180-400h160v-160H180v160Zm440 0h160v-160H620v160ZM180-180h160v-160H180v160Zm440 0h160v-160H620v160Z\"/>\n",
              "  </svg>\n",
              "    </button>\n",
              "\n",
              "  <style>\n",
              "    .colab-df-container {\n",
              "      display:flex;\n",
              "      gap: 12px;\n",
              "    }\n",
              "\n",
              "    .colab-df-convert {\n",
              "      background-color: #E8F0FE;\n",
              "      border: none;\n",
              "      border-radius: 50%;\n",
              "      cursor: pointer;\n",
              "      display: none;\n",
              "      fill: #1967D2;\n",
              "      height: 32px;\n",
              "      padding: 0 0 0 0;\n",
              "      width: 32px;\n",
              "    }\n",
              "\n",
              "    .colab-df-convert:hover {\n",
              "      background-color: #E2EBFA;\n",
              "      box-shadow: 0px 1px 2px rgba(60, 64, 67, 0.3), 0px 1px 3px 1px rgba(60, 64, 67, 0.15);\n",
              "      fill: #174EA6;\n",
              "    }\n",
              "\n",
              "    .colab-df-buttons div {\n",
              "      margin-bottom: 4px;\n",
              "    }\n",
              "\n",
              "    [theme=dark] .colab-df-convert {\n",
              "      background-color: #3B4455;\n",
              "      fill: #D2E3FC;\n",
              "    }\n",
              "\n",
              "    [theme=dark] .colab-df-convert:hover {\n",
              "      background-color: #434B5C;\n",
              "      box-shadow: 0px 1px 3px 1px rgba(0, 0, 0, 0.15);\n",
              "      filter: drop-shadow(0px 1px 2px rgba(0, 0, 0, 0.3));\n",
              "      fill: #FFFFFF;\n",
              "    }\n",
              "  </style>\n",
              "\n",
              "    <script>\n",
              "      const buttonEl =\n",
              "        document.querySelector('#df-eb4c11d5-adfb-43c7-afba-792199fcf29e button.colab-df-convert');\n",
              "      buttonEl.style.display =\n",
              "        google.colab.kernel.accessAllowed ? 'block' : 'none';\n",
              "\n",
              "      async function convertToInteractive(key) {\n",
              "        const element = document.querySelector('#df-eb4c11d5-adfb-43c7-afba-792199fcf29e');\n",
              "        const dataTable =\n",
              "          await google.colab.kernel.invokeFunction('convertToInteractive',\n",
              "                                                    [key], {});\n",
              "        if (!dataTable) return;\n",
              "\n",
              "        const docLinkHtml = 'Like what you see? Visit the ' +\n",
              "          '<a target=\"_blank\" href=https://colab.research.google.com/notebooks/data_table.ipynb>data table notebook</a>'\n",
              "          + ' to learn more about interactive tables.';\n",
              "        element.innerHTML = '';\n",
              "        dataTable['output_type'] = 'display_data';\n",
              "        await google.colab.output.renderOutput(dataTable, element);\n",
              "        const docLink = document.createElement('div');\n",
              "        docLink.innerHTML = docLinkHtml;\n",
              "        element.appendChild(docLink);\n",
              "      }\n",
              "    </script>\n",
              "  </div>\n",
              "\n",
              "\n",
              "<div id=\"df-f2248a64-dcb8-4ac2-b174-f6ccd9f708d3\">\n",
              "  <button class=\"colab-df-quickchart\" onclick=\"quickchart('df-f2248a64-dcb8-4ac2-b174-f6ccd9f708d3')\"\n",
              "            title=\"Suggest charts.\"\n",
              "            style=\"display:none;\">\n",
              "\n",
              "<svg xmlns=\"http://www.w3.org/2000/svg\" height=\"24px\"viewBox=\"0 0 24 24\"\n",
              "     width=\"24px\">\n",
              "    <g>\n",
              "        <path d=\"M19 3H5c-1.1 0-2 .9-2 2v14c0 1.1.9 2 2 2h14c1.1 0 2-.9 2-2V5c0-1.1-.9-2-2-2zM9 17H7v-7h2v7zm4 0h-2V7h2v10zm4 0h-2v-4h2v4z\"/>\n",
              "    </g>\n",
              "</svg>\n",
              "  </button>\n",
              "\n",
              "<style>\n",
              "  .colab-df-quickchart {\n",
              "      --bg-color: #E8F0FE;\n",
              "      --fill-color: #1967D2;\n",
              "      --hover-bg-color: #E2EBFA;\n",
              "      --hover-fill-color: #174EA6;\n",
              "      --disabled-fill-color: #AAA;\n",
              "      --disabled-bg-color: #DDD;\n",
              "  }\n",
              "\n",
              "  [theme=dark] .colab-df-quickchart {\n",
              "      --bg-color: #3B4455;\n",
              "      --fill-color: #D2E3FC;\n",
              "      --hover-bg-color: #434B5C;\n",
              "      --hover-fill-color: #FFFFFF;\n",
              "      --disabled-bg-color: #3B4455;\n",
              "      --disabled-fill-color: #666;\n",
              "  }\n",
              "\n",
              "  .colab-df-quickchart {\n",
              "    background-color: var(--bg-color);\n",
              "    border: none;\n",
              "    border-radius: 50%;\n",
              "    cursor: pointer;\n",
              "    display: none;\n",
              "    fill: var(--fill-color);\n",
              "    height: 32px;\n",
              "    padding: 0;\n",
              "    width: 32px;\n",
              "  }\n",
              "\n",
              "  .colab-df-quickchart:hover {\n",
              "    background-color: var(--hover-bg-color);\n",
              "    box-shadow: 0 1px 2px rgba(60, 64, 67, 0.3), 0 1px 3px 1px rgba(60, 64, 67, 0.15);\n",
              "    fill: var(--button-hover-fill-color);\n",
              "  }\n",
              "\n",
              "  .colab-df-quickchart-complete:disabled,\n",
              "  .colab-df-quickchart-complete:disabled:hover {\n",
              "    background-color: var(--disabled-bg-color);\n",
              "    fill: var(--disabled-fill-color);\n",
              "    box-shadow: none;\n",
              "  }\n",
              "\n",
              "  .colab-df-spinner {\n",
              "    border: 2px solid var(--fill-color);\n",
              "    border-color: transparent;\n",
              "    border-bottom-color: var(--fill-color);\n",
              "    animation:\n",
              "      spin 1s steps(1) infinite;\n",
              "  }\n",
              "\n",
              "  @keyframes spin {\n",
              "    0% {\n",
              "      border-color: transparent;\n",
              "      border-bottom-color: var(--fill-color);\n",
              "      border-left-color: var(--fill-color);\n",
              "    }\n",
              "    20% {\n",
              "      border-color: transparent;\n",
              "      border-left-color: var(--fill-color);\n",
              "      border-top-color: var(--fill-color);\n",
              "    }\n",
              "    30% {\n",
              "      border-color: transparent;\n",
              "      border-left-color: var(--fill-color);\n",
              "      border-top-color: var(--fill-color);\n",
              "      border-right-color: var(--fill-color);\n",
              "    }\n",
              "    40% {\n",
              "      border-color: transparent;\n",
              "      border-right-color: var(--fill-color);\n",
              "      border-top-color: var(--fill-color);\n",
              "    }\n",
              "    60% {\n",
              "      border-color: transparent;\n",
              "      border-right-color: var(--fill-color);\n",
              "    }\n",
              "    80% {\n",
              "      border-color: transparent;\n",
              "      border-right-color: var(--fill-color);\n",
              "      border-bottom-color: var(--fill-color);\n",
              "    }\n",
              "    90% {\n",
              "      border-color: transparent;\n",
              "      border-bottom-color: var(--fill-color);\n",
              "    }\n",
              "  }\n",
              "</style>\n",
              "\n",
              "  <script>\n",
              "    async function quickchart(key) {\n",
              "      const quickchartButtonEl =\n",
              "        document.querySelector('#' + key + ' button');\n",
              "      quickchartButtonEl.disabled = true;  // To prevent multiple clicks.\n",
              "      quickchartButtonEl.classList.add('colab-df-spinner');\n",
              "      try {\n",
              "        const charts = await google.colab.kernel.invokeFunction(\n",
              "            'suggestCharts', [key], {});\n",
              "      } catch (error) {\n",
              "        console.error('Error during call to suggestCharts:', error);\n",
              "      }\n",
              "      quickchartButtonEl.classList.remove('colab-df-spinner');\n",
              "      quickchartButtonEl.classList.add('colab-df-quickchart-complete');\n",
              "    }\n",
              "    (() => {\n",
              "      let quickchartButtonEl =\n",
              "        document.querySelector('#df-f2248a64-dcb8-4ac2-b174-f6ccd9f708d3 button');\n",
              "      quickchartButtonEl.style.display =\n",
              "        google.colab.kernel.accessAllowed ? 'block' : 'none';\n",
              "    })();\n",
              "  </script>\n",
              "</div>\n",
              "    </div>\n",
              "  </div>\n"
            ]
          },
          "metadata": {},
          "execution_count": 21
        }
      ]
    },
    {
      "cell_type": "code",
      "source": [
        "new_dat = ohc.fit_transform(dat.reshape(-1,1))\n",
        "new_dat"
      ],
      "metadata": {
        "colab": {
          "base_uri": "https://localhost:8080/"
        },
        "id": "GQtjH-NOey0u",
        "outputId": "38e17ab9-f175-4558-e490-a950a5b6b5b9"
      },
      "execution_count": 22,
      "outputs": [
        {
          "output_type": "execute_result",
          "data": {
            "text/plain": [
              "<1379x2 sparse matrix of type '<class 'numpy.float64'>'\n",
              "\twith 1379 stored elements in Compressed Sparse Row format>"
            ]
          },
          "metadata": {},
          "execution_count": 22
        }
      ]
    },
    {
      "cell_type": "markdown",
      "source": [
        "- This tells you that the matrix is stored in a sparse format, which means it doesn't store all values explicitly. Instead, it typically stores only the non-zero values, saving memory when dealing with large datasets with mostly zero values"
      ],
      "metadata": {
        "id": "p9Plua2EfLVH"
      }
    },
    {
      "cell_type": "code",
      "source": [
        "n_cols = new_dat.shape[1]\n",
        "col_names = ['_'.join([col, str(x)]) for x in range(n_cols)]\n",
        "col_names"
      ],
      "metadata": {
        "colab": {
          "base_uri": "https://localhost:8080/"
        },
        "id": "AQE_XpCWfU0X",
        "outputId": "7e3e4dac-6b89-485a-9ae8-8860009a8a25"
      },
      "execution_count": 23,
      "outputs": [
        {
          "output_type": "execute_result",
          "data": {
            "text/plain": [
              "['Utilities_0', 'Utilities_1']"
            ]
          },
          "metadata": {},
          "execution_count": 23
        }
      ]
    },
    {
      "cell_type": "code",
      "source": [
        "new_df = pd.DataFrame(new_dat.toarray(),\n",
        "                          index=data_ohc.index,\n",
        "                          columns=col_names)\n",
        "new_df.head()"
      ],
      "metadata": {
        "colab": {
          "base_uri": "https://localhost:8080/",
          "height": 206
        },
        "id": "Pvs8WFLjffDf",
        "outputId": "ad5eaa35-6a7c-4b3f-99d4-c2863226bd36"
      },
      "execution_count": 25,
      "outputs": [
        {
          "output_type": "execute_result",
          "data": {
            "text/plain": [
              "   Utilities_0  Utilities_1\n",
              "0          1.0          0.0\n",
              "1          1.0          0.0\n",
              "2          1.0          0.0\n",
              "3          1.0          0.0\n",
              "4          1.0          0.0"
            ],
            "text/html": [
              "\n",
              "  <div id=\"df-31a70d60-82d4-4e3e-988d-df2d5bc0becf\" class=\"colab-df-container\">\n",
              "    <div>\n",
              "<style scoped>\n",
              "    .dataframe tbody tr th:only-of-type {\n",
              "        vertical-align: middle;\n",
              "    }\n",
              "\n",
              "    .dataframe tbody tr th {\n",
              "        vertical-align: top;\n",
              "    }\n",
              "\n",
              "    .dataframe thead th {\n",
              "        text-align: right;\n",
              "    }\n",
              "</style>\n",
              "<table border=\"1\" class=\"dataframe\">\n",
              "  <thead>\n",
              "    <tr style=\"text-align: right;\">\n",
              "      <th></th>\n",
              "      <th>Utilities_0</th>\n",
              "      <th>Utilities_1</th>\n",
              "    </tr>\n",
              "  </thead>\n",
              "  <tbody>\n",
              "    <tr>\n",
              "      <th>0</th>\n",
              "      <td>1.0</td>\n",
              "      <td>0.0</td>\n",
              "    </tr>\n",
              "    <tr>\n",
              "      <th>1</th>\n",
              "      <td>1.0</td>\n",
              "      <td>0.0</td>\n",
              "    </tr>\n",
              "    <tr>\n",
              "      <th>2</th>\n",
              "      <td>1.0</td>\n",
              "      <td>0.0</td>\n",
              "    </tr>\n",
              "    <tr>\n",
              "      <th>3</th>\n",
              "      <td>1.0</td>\n",
              "      <td>0.0</td>\n",
              "    </tr>\n",
              "    <tr>\n",
              "      <th>4</th>\n",
              "      <td>1.0</td>\n",
              "      <td>0.0</td>\n",
              "    </tr>\n",
              "  </tbody>\n",
              "</table>\n",
              "</div>\n",
              "    <div class=\"colab-df-buttons\">\n",
              "\n",
              "  <div class=\"colab-df-container\">\n",
              "    <button class=\"colab-df-convert\" onclick=\"convertToInteractive('df-31a70d60-82d4-4e3e-988d-df2d5bc0becf')\"\n",
              "            title=\"Convert this dataframe to an interactive table.\"\n",
              "            style=\"display:none;\">\n",
              "\n",
              "  <svg xmlns=\"http://www.w3.org/2000/svg\" height=\"24px\" viewBox=\"0 -960 960 960\">\n",
              "    <path d=\"M120-120v-720h720v720H120Zm60-500h600v-160H180v160Zm220 220h160v-160H400v160Zm0 220h160v-160H400v160ZM180-400h160v-160H180v160Zm440 0h160v-160H620v160ZM180-180h160v-160H180v160Zm440 0h160v-160H620v160Z\"/>\n",
              "  </svg>\n",
              "    </button>\n",
              "\n",
              "  <style>\n",
              "    .colab-df-container {\n",
              "      display:flex;\n",
              "      gap: 12px;\n",
              "    }\n",
              "\n",
              "    .colab-df-convert {\n",
              "      background-color: #E8F0FE;\n",
              "      border: none;\n",
              "      border-radius: 50%;\n",
              "      cursor: pointer;\n",
              "      display: none;\n",
              "      fill: #1967D2;\n",
              "      height: 32px;\n",
              "      padding: 0 0 0 0;\n",
              "      width: 32px;\n",
              "    }\n",
              "\n",
              "    .colab-df-convert:hover {\n",
              "      background-color: #E2EBFA;\n",
              "      box-shadow: 0px 1px 2px rgba(60, 64, 67, 0.3), 0px 1px 3px 1px rgba(60, 64, 67, 0.15);\n",
              "      fill: #174EA6;\n",
              "    }\n",
              "\n",
              "    .colab-df-buttons div {\n",
              "      margin-bottom: 4px;\n",
              "    }\n",
              "\n",
              "    [theme=dark] .colab-df-convert {\n",
              "      background-color: #3B4455;\n",
              "      fill: #D2E3FC;\n",
              "    }\n",
              "\n",
              "    [theme=dark] .colab-df-convert:hover {\n",
              "      background-color: #434B5C;\n",
              "      box-shadow: 0px 1px 3px 1px rgba(0, 0, 0, 0.15);\n",
              "      filter: drop-shadow(0px 1px 2px rgba(0, 0, 0, 0.3));\n",
              "      fill: #FFFFFF;\n",
              "    }\n",
              "  </style>\n",
              "\n",
              "    <script>\n",
              "      const buttonEl =\n",
              "        document.querySelector('#df-31a70d60-82d4-4e3e-988d-df2d5bc0becf button.colab-df-convert');\n",
              "      buttonEl.style.display =\n",
              "        google.colab.kernel.accessAllowed ? 'block' : 'none';\n",
              "\n",
              "      async function convertToInteractive(key) {\n",
              "        const element = document.querySelector('#df-31a70d60-82d4-4e3e-988d-df2d5bc0becf');\n",
              "        const dataTable =\n",
              "          await google.colab.kernel.invokeFunction('convertToInteractive',\n",
              "                                                    [key], {});\n",
              "        if (!dataTable) return;\n",
              "\n",
              "        const docLinkHtml = 'Like what you see? Visit the ' +\n",
              "          '<a target=\"_blank\" href=https://colab.research.google.com/notebooks/data_table.ipynb>data table notebook</a>'\n",
              "          + ' to learn more about interactive tables.';\n",
              "        element.innerHTML = '';\n",
              "        dataTable['output_type'] = 'display_data';\n",
              "        await google.colab.output.renderOutput(dataTable, element);\n",
              "        const docLink = document.createElement('div');\n",
              "        docLink.innerHTML = docLinkHtml;\n",
              "        element.appendChild(docLink);\n",
              "      }\n",
              "    </script>\n",
              "  </div>\n",
              "\n",
              "\n",
              "<div id=\"df-3c450e8f-f32b-4c87-be47-8cbc50fc2079\">\n",
              "  <button class=\"colab-df-quickchart\" onclick=\"quickchart('df-3c450e8f-f32b-4c87-be47-8cbc50fc2079')\"\n",
              "            title=\"Suggest charts.\"\n",
              "            style=\"display:none;\">\n",
              "\n",
              "<svg xmlns=\"http://www.w3.org/2000/svg\" height=\"24px\"viewBox=\"0 0 24 24\"\n",
              "     width=\"24px\">\n",
              "    <g>\n",
              "        <path d=\"M19 3H5c-1.1 0-2 .9-2 2v14c0 1.1.9 2 2 2h14c1.1 0 2-.9 2-2V5c0-1.1-.9-2-2-2zM9 17H7v-7h2v7zm4 0h-2V7h2v10zm4 0h-2v-4h2v4z\"/>\n",
              "    </g>\n",
              "</svg>\n",
              "  </button>\n",
              "\n",
              "<style>\n",
              "  .colab-df-quickchart {\n",
              "      --bg-color: #E8F0FE;\n",
              "      --fill-color: #1967D2;\n",
              "      --hover-bg-color: #E2EBFA;\n",
              "      --hover-fill-color: #174EA6;\n",
              "      --disabled-fill-color: #AAA;\n",
              "      --disabled-bg-color: #DDD;\n",
              "  }\n",
              "\n",
              "  [theme=dark] .colab-df-quickchart {\n",
              "      --bg-color: #3B4455;\n",
              "      --fill-color: #D2E3FC;\n",
              "      --hover-bg-color: #434B5C;\n",
              "      --hover-fill-color: #FFFFFF;\n",
              "      --disabled-bg-color: #3B4455;\n",
              "      --disabled-fill-color: #666;\n",
              "  }\n",
              "\n",
              "  .colab-df-quickchart {\n",
              "    background-color: var(--bg-color);\n",
              "    border: none;\n",
              "    border-radius: 50%;\n",
              "    cursor: pointer;\n",
              "    display: none;\n",
              "    fill: var(--fill-color);\n",
              "    height: 32px;\n",
              "    padding: 0;\n",
              "    width: 32px;\n",
              "  }\n",
              "\n",
              "  .colab-df-quickchart:hover {\n",
              "    background-color: var(--hover-bg-color);\n",
              "    box-shadow: 0 1px 2px rgba(60, 64, 67, 0.3), 0 1px 3px 1px rgba(60, 64, 67, 0.15);\n",
              "    fill: var(--button-hover-fill-color);\n",
              "  }\n",
              "\n",
              "  .colab-df-quickchart-complete:disabled,\n",
              "  .colab-df-quickchart-complete:disabled:hover {\n",
              "    background-color: var(--disabled-bg-color);\n",
              "    fill: var(--disabled-fill-color);\n",
              "    box-shadow: none;\n",
              "  }\n",
              "\n",
              "  .colab-df-spinner {\n",
              "    border: 2px solid var(--fill-color);\n",
              "    border-color: transparent;\n",
              "    border-bottom-color: var(--fill-color);\n",
              "    animation:\n",
              "      spin 1s steps(1) infinite;\n",
              "  }\n",
              "\n",
              "  @keyframes spin {\n",
              "    0% {\n",
              "      border-color: transparent;\n",
              "      border-bottom-color: var(--fill-color);\n",
              "      border-left-color: var(--fill-color);\n",
              "    }\n",
              "    20% {\n",
              "      border-color: transparent;\n",
              "      border-left-color: var(--fill-color);\n",
              "      border-top-color: var(--fill-color);\n",
              "    }\n",
              "    30% {\n",
              "      border-color: transparent;\n",
              "      border-left-color: var(--fill-color);\n",
              "      border-top-color: var(--fill-color);\n",
              "      border-right-color: var(--fill-color);\n",
              "    }\n",
              "    40% {\n",
              "      border-color: transparent;\n",
              "      border-right-color: var(--fill-color);\n",
              "      border-top-color: var(--fill-color);\n",
              "    }\n",
              "    60% {\n",
              "      border-color: transparent;\n",
              "      border-right-color: var(--fill-color);\n",
              "    }\n",
              "    80% {\n",
              "      border-color: transparent;\n",
              "      border-right-color: var(--fill-color);\n",
              "      border-bottom-color: var(--fill-color);\n",
              "    }\n",
              "    90% {\n",
              "      border-color: transparent;\n",
              "      border-bottom-color: var(--fill-color);\n",
              "    }\n",
              "  }\n",
              "</style>\n",
              "\n",
              "  <script>\n",
              "    async function quickchart(key) {\n",
              "      const quickchartButtonEl =\n",
              "        document.querySelector('#' + key + ' button');\n",
              "      quickchartButtonEl.disabled = true;  // To prevent multiple clicks.\n",
              "      quickchartButtonEl.classList.add('colab-df-spinner');\n",
              "      try {\n",
              "        const charts = await google.colab.kernel.invokeFunction(\n",
              "            'suggestCharts', [key], {});\n",
              "      } catch (error) {\n",
              "        console.error('Error during call to suggestCharts:', error);\n",
              "      }\n",
              "      quickchartButtonEl.classList.remove('colab-df-spinner');\n",
              "      quickchartButtonEl.classList.add('colab-df-quickchart-complete');\n",
              "    }\n",
              "    (() => {\n",
              "      let quickchartButtonEl =\n",
              "        document.querySelector('#df-3c450e8f-f32b-4c87-be47-8cbc50fc2079 button');\n",
              "      quickchartButtonEl.style.display =\n",
              "        google.colab.kernel.accessAllowed ? 'block' : 'none';\n",
              "    })();\n",
              "  </script>\n",
              "</div>\n",
              "    </div>\n",
              "  </div>\n"
            ]
          },
          "metadata": {},
          "execution_count": 25
        }
      ]
    },
    {
      "cell_type": "code",
      "execution_count": 26,
      "metadata": {
        "jupyter": {
          "outputs_hidden": false
        },
        "run_control": {
          "marked": true
        },
        "colab": {
          "base_uri": "https://localhost:8080/"
        },
        "id": "-_57orXVR1qZ",
        "outputId": "240493cf-6cae-4d8c-d57f-20ed16618f8b"
      },
      "outputs": [
        {
          "output_type": "execute_result",
          "data": {
            "text/plain": [
              "215"
            ]
          },
          "metadata": {},
          "execution_count": 26
        }
      ],
      "source": [
        "# Column difference is as calculated above\n",
        "data_ohc.shape[1] - data.shape[1]"
      ]
    },
    {
      "cell_type": "code",
      "execution_count": 27,
      "metadata": {
        "jupyter": {
          "outputs_hidden": false
        },
        "run_control": {
          "marked": true
        },
        "colab": {
          "base_uri": "https://localhost:8080/"
        },
        "id": "VeEI0MNBR1qa",
        "outputId": "54d737a5-2fe1-4cae-c276-046337d8a847"
      },
      "outputs": [
        {
          "output_type": "stream",
          "name": "stdout",
          "text": [
            "80\n",
            "37\n"
          ]
        }
      ],
      "source": [
        "print(data.shape[1])\n",
        "\n",
        "# Remove the string columns from the dataframe\n",
        "data = data.drop(num_ohc_cols.index, axis=1)\n",
        "\n",
        "print(data.shape[1])"
      ]
    },
    {
      "cell_type": "markdown",
      "metadata": {
        "run_control": {
          "marked": true
        },
        "id": "SdM0jU1gR1qb"
      },
      "source": [
        "## Question 4\n",
        "\n",
        "* Create train and test splits of both data sets. To ensure the data gets split the same way, use the same `random_state` in each of the two splits.\n",
        "* For each data set, fit a basic linear regression model on the training data.\n",
        "* Calculate the mean squared error on both the train and test sets for the respective models. Which model produces smaller error on the test data and why?\n"
      ]
    },
    {
      "cell_type": "code",
      "execution_count": null,
      "metadata": {
        "jupyter": {
          "outputs_hidden": false
        },
        "run_control": {
          "marked": true
        },
        "id": "-1qyeSBIR1qb"
      },
      "outputs": [],
      "source": [
        "from sklearn.model_selection import train_test_split\n",
        "\n",
        "y_col = 'SalePrice'\n",
        "\n",
        "# Split the data that is not one-hot encoded\n",
        "feature_cols = [x for x in data.columns if x != y_col]\n",
        "X_data = data[feature_cols]\n",
        "y_data = data[y_col]\n",
        "\n",
        "X_train, X_test, y_train, y_test = train_test_split(X_data, y_data,\n",
        "                                                    test_size=0.3, random_state=42)\n",
        "# Split the data that is one-hot encoded\n",
        "feature_cols = [x for x in data_ohc.columns if x != y_col]\n",
        "X_data_ohc = data_ohc[feature_cols]\n",
        "y_data_ohc = data_ohc[y_col]\n",
        "\n",
        "X_train_ohc, X_test_ohc, y_train_ohc, y_test_ohc = train_test_split(X_data_ohc, y_data_ohc,\n",
        "                                                    test_size=0.3, random_state=42)"
      ]
    },
    {
      "cell_type": "code",
      "execution_count": null,
      "metadata": {
        "jupyter": {
          "outputs_hidden": false
        },
        "run_control": {
          "marked": true
        },
        "id": "FkKv9nmFR1qc"
      },
      "outputs": [],
      "source": [
        "# Compare the indices to ensure they are identical\n",
        "(X_train_ohc.index == X_train.index).all()"
      ]
    },
    {
      "cell_type": "code",
      "execution_count": null,
      "metadata": {
        "id": "1wOXu84QR1qc"
      },
      "outputs": [],
      "source": [
        "X_train"
      ]
    },
    {
      "cell_type": "code",
      "execution_count": null,
      "metadata": {
        "jupyter": {
          "outputs_hidden": false
        },
        "run_control": {
          "marked": true
        },
        "id": "INeg864jR1qd"
      },
      "outputs": [],
      "source": [
        "from sklearn.linear_model import LinearRegression\n",
        "from sklearn.metrics import mean_squared_error\n",
        "\n",
        "LR = LinearRegression()\n",
        "\n",
        "# Storage for error values\n",
        "error_df = list()\n",
        "\n",
        "# Data that have not been one-hot encoded\n",
        "LR = LR.fit(X_train, y_train)\n",
        "y_train_pred = LR.predict(X_train)\n",
        "y_test_pred = LR.predict(X_test)\n",
        "\n",
        "error_df.append(pd.Series({'train': mean_squared_error(y_train, y_train_pred),\n",
        "                           'test' : mean_squared_error(y_test,  y_test_pred)},\n",
        "                           name='no enc'))\n",
        "\n",
        "# Data that have been one-hot encoded\n",
        "LR = LR.fit(X_train_ohc, y_train_ohc)\n",
        "y_train_ohc_pred = LR.predict(X_train_ohc)\n",
        "y_test_ohc_pred = LR.predict(X_test_ohc)\n",
        "\n",
        "error_df.append(pd.Series({'train': mean_squared_error(y_train_ohc, y_train_ohc_pred),\n",
        "                           'test' : mean_squared_error(y_test_ohc,  y_test_ohc_pred)},\n",
        "                          name='one-hot enc'))\n",
        "\n",
        "# Assemble the results\n",
        "error_df = pd.concat(error_df, axis=1)\n",
        "error_df"
      ]
    },
    {
      "cell_type": "markdown",
      "metadata": {
        "run_control": {
          "marked": true
        },
        "id": "gzQ_5P6_R1qd"
      },
      "source": [
        "Note that the error values on the one-hot encoded data are very different for the train and test data. In particular, the errors on the test data are much higher. Based on the lecture, this is because the one-hot encoded model is overfitting the data. We will learn how to deal with issues like this in the next lesson.\n"
      ]
    },
    {
      "cell_type": "markdown",
      "metadata": {
        "run_control": {
          "marked": true
        },
        "id": "WxO107FiR1qe"
      },
      "source": [
        "## Question 5\n",
        "\n",
        "For each of the data sets (one-hot encoded and not encoded):\n",
        "\n",
        "* Scale the all the non-hot encoded values using one of the following: `StandardScaler`, `MinMaxScaler`, `MaxAbsScaler`.\n",
        "* Compare the error calculated on the test sets\n",
        "\n",
        "Be sure to calculate the skew (to decide if a transformation should be done) and fit the scaler on *ONLY* the training data, but then apply it to both the train and test data identically.\n"
      ]
    },
    {
      "cell_type": "code",
      "execution_count": null,
      "metadata": {
        "id": "WZjPK6mrR1qe"
      },
      "outputs": [],
      "source": [
        "# Mute the setting wtih a copy warnings\n",
        "pd.options.mode.chained_assignment = None"
      ]
    },
    {
      "cell_type": "code",
      "execution_count": null,
      "metadata": {
        "jupyter": {
          "outputs_hidden": false
        },
        "id": "9qmDaPL-R1qf"
      },
      "outputs": [],
      "source": [
        "from sklearn.preprocessing import StandardScaler, MinMaxScaler, MaxAbsScaler\n",
        "\n",
        "\n",
        "scalers = {'standard': StandardScaler(),\n",
        "           'minmax': MinMaxScaler(),\n",
        "           'maxabs': MaxAbsScaler()}\n",
        "\n",
        "training_test_sets = {\n",
        "    'not_encoded': (X_train, y_train, X_test, y_test),\n",
        "    'one_hot_encoded': (X_train_ohc, y_train_ohc, X_test_ohc, y_test_ohc)}\n",
        "\n",
        "\n",
        "# Get the list of float columns, and the float data\n",
        "# so that we don't scale something we already scaled.\n",
        "# We're supposed to scale the original data each time\n",
        "mask = X_train.dtypes == np.float\n",
        "float_columns = X_train.columns[mask]\n",
        "\n",
        "# initialize model\n",
        "LR = LinearRegression()\n",
        "\n",
        "# iterate over all possible combinations and get the errors\n",
        "errors = {}\n",
        "for encoding_label, (_X_train, _y_train, _X_test, _y_test) in training_test_sets.items():\n",
        "    for scaler_label, scaler in scalers.items():\n",
        "        trainingset = _X_train.copy()  # copy because we dont want to scale this more than once.\n",
        "        testset = _X_test.copy()\n",
        "        trainingset[float_columns] = scaler.fit_transform(trainingset[float_columns])\n",
        "        testset[float_columns] = scaler.transform(testset[float_columns])\n",
        "        LR.fit(trainingset, _y_train)\n",
        "        predictions = LR.predict(testset)\n",
        "        key = encoding_label + ' - ' + scaler_label + 'scaling'\n",
        "        errors[key] = mean_squared_error(_y_test, predictions)\n",
        "\n",
        "errors = pd.Series(errors)\n",
        "print(errors.to_string())\n",
        "print('-' * 80)\n",
        "for key, error_val in errors.items():\n",
        "    print(key, error_val)"
      ]
    },
    {
      "cell_type": "markdown",
      "metadata": {
        "run_control": {
          "marked": true
        },
        "id": "79-lNy5mR1qg"
      },
      "source": [
        "## Question 6\n",
        "\n",
        "Plot predictions vs actual for one of the models.\n"
      ]
    },
    {
      "cell_type": "code",
      "execution_count": null,
      "metadata": {
        "jupyter": {
          "outputs_hidden": false
        },
        "run_control": {
          "marked": true
        },
        "id": "yR-q--U8R1qg"
      },
      "outputs": [],
      "source": [
        "import matplotlib.pyplot as plt\n",
        "import seaborn as sns\n",
        "%matplotlib inline\n",
        "\n",
        "\n",
        "sns.set_context('talk')\n",
        "sns.set_style('ticks')\n",
        "sns.set_palette('dark')\n",
        "\n",
        "ax = plt.axes()\n",
        "# we are going to use y_test, y_test_pred\n",
        "ax.scatter(y_test, y_test_pred, alpha=.5)\n",
        "\n",
        "ax.set(xlabel='Ground truth',\n",
        "       ylabel='Predictions',\n",
        "       title='Ames, Iowa House Price Predictions vs Truth, using Linear Regression');"
      ]
    },
    {
      "cell_type": "markdown",
      "metadata": {
        "id": "uOtcGihXR1qh"
      },
      "source": [
        "---\n",
        "### Machine Learning Foundation (C) 2020 IBM Corporation\n"
      ]
    }
  ],
  "metadata": {
    "kernelspec": {
      "display_name": "Python",
      "language": "python",
      "name": "conda-env-python-py"
    },
    "language_info": {
      "name": ""
    },
    "colab": {
      "provenance": []
    }
  },
  "nbformat": 4,
  "nbformat_minor": 0
}