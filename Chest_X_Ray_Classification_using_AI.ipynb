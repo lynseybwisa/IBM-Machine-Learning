{
  "nbformat": 4,
  "nbformat_minor": 0,
  "metadata": {
    "colab": {
      "provenance": [],
      "authorship_tag": "ABX9TyPWXY3a5MBquasMRG0FaBbk",
      "include_colab_link": true
    },
    "kernelspec": {
      "name": "python3",
      "display_name": "Python 3"
    },
    "language_info": {
      "name": "python"
    }
  },
  "cells": [
    {
      "cell_type": "markdown",
      "metadata": {
        "id": "view-in-github",
        "colab_type": "text"
      },
      "source": [
        "<a href=\"https://colab.research.google.com/github/lynseybwisa/IBM-Machine-Learning/blob/develop/Chest_X_Ray_Classification_using_AI.ipynb\" target=\"_parent\"><img src=\"https://colab.research.google.com/assets/colab-badge.svg\" alt=\"Open In Colab\"/></a>"
      ]
    },
    {
      "cell_type": "markdown",
      "source": [
        "THIS DATASET CONTAINS 4 CLASSES\n",
        "1.   COVID-19\n",
        "2.   HEALTHY\n",
        "1.   BACTERIAL PNEUMONIA\n",
        "2.   VIRAL PNEUMONIA\n",
        "\n",
        "\n",
        "\n",
        "\n"
      ],
      "metadata": {
        "id": "7QWtHocDZd7D"
      }
    },
    {
      "cell_type": "markdown",
      "source": [
        "#Import the libraries and dataset"
      ],
      "metadata": {
        "id": "ycmNT0i8agTN"
      }
    },
    {
      "cell_type": "code",
      "source": [],
      "metadata": {
        "id": "ABwyy4nuZ2LA"
      },
      "execution_count": null,
      "outputs": []
    }
  ]
}