{
  "nbformat": 4,
  "nbformat_minor": 0,
  "metadata": {
    "colab": {
      "provenance": [],
      "authorship_tag": "ABX9TyOGTRIEVLze54EYWhv5rYFp",
      "include_colab_link": true
    },
    "kernelspec": {
      "name": "python3",
      "display_name": "Python 3"
    },
    "language_info": {
      "name": "python"
    }
  },
  "cells": [
    {
      "cell_type": "markdown",
      "metadata": {
        "id": "view-in-github",
        "colab_type": "text"
      },
      "source": [
        "<a href=\"https://colab.research.google.com/github/lynseybwisa/IBM-Machine-Learning/blob/read-data-part-2/Reading_SQL_Files_Part_2.ipynb\" target=\"_parent\"><img src=\"https://colab.research.google.com/assets/colab-badge.svg\" alt=\"Open In Colab\"/></a>"
      ]
    },
    {
      "cell_type": "code",
      "execution_count": 10,
      "metadata": {
        "colab": {
          "base_uri": "https://localhost:8080/"
        },
        "id": "qGnbCMjl1egx",
        "outputId": "2338033c-e0f6-47ac-9004-a7e0649125b1"
      },
      "outputs": [
        {
          "output_type": "stream",
          "name": "stdout",
          "text": [
            "Drive already mounted at /content/drive; to attempt to forcibly remount, call drive.mount(\"/content/drive\", force_remount=True).\n"
          ]
        }
      ],
      "source": [
        "from google.colab import drive\n",
        "drive.mount('/content/drive')"
      ]
    },
    {
      "cell_type": "code",
      "source": [
        "import sqlite3 as sq3\n",
        "import pandas.io.sql as pds\n",
        "import pandas as pd"
      ],
      "metadata": {
        "id": "m3Xlmi-s10xA"
      },
      "execution_count": 11,
      "outputs": []
    },
    {
      "cell_type": "markdown",
      "source": [
        "#creating variables"
      ],
      "metadata": {
        "id": "XrPQI9s22AQ8"
      }
    },
    {
      "cell_type": "code",
      "source": [
        "# Create a variable, `path`, containing the path to the `baseball.db` contained in `resources/`\n",
        "path = 'drive/MyDrive/Colab Notebooks/IBM:Machine Learning Course/data/baseball.db'"
      ],
      "metadata": {
        "id": "jbDx8nAi2Ehl"
      },
      "execution_count": 12,
      "outputs": []
    },
    {
      "cell_type": "markdown",
      "source": [
        "#create db connection"
      ],
      "metadata": {
        "id": "pbrB7mdW2Pns"
      }
    },
    {
      "cell_type": "code",
      "source": [
        "con = sq3.Connection(path)"
      ],
      "metadata": {
        "id": "tTut_R0a2Rse"
      },
      "execution_count": 13,
      "outputs": []
    },
    {
      "cell_type": "markdown",
      "source": [
        "#queries"
      ],
      "metadata": {
        "id": "cNHLtu-e2aIi"
      }
    },
    {
      "cell_type": "code",
      "source": [
        "query = \"\"\"\n",
        "SELECT *\n",
        "    FROM allstarfull\n",
        "    ;\n",
        "\"\"\""
      ],
      "metadata": {
        "id": "tdxeZYU62ZfL"
      },
      "execution_count": 14,
      "outputs": []
    },
    {
      "cell_type": "code",
      "source": [
        "allstar_observations = pd.read_sql(query, con)"
      ],
      "metadata": {
        "id": "MPysIsc12hli"
      },
      "execution_count": 15,
      "outputs": []
    },
    {
      "cell_type": "code",
      "source": [
        "# Create a variable, tables, which reads in all data from the table sqlite_master\n",
        "all_tables = pd.read_sql('SELECT * FROM sqlite_master', con)\n",
        "print(all_tables)"
      ],
      "metadata": {
        "colab": {
          "base_uri": "https://localhost:8080/"
        },
        "id": "A30RDPyh2vxp",
        "outputId": "366be815-2b8c-4612-f5d3-a23f81ca687f"
      },
      "execution_count": 16,
      "outputs": [
        {
          "output_type": "stream",
          "name": "stdout",
          "text": [
            "    type                  name     tbl_name  rootpage  \\\n",
            "0  table           allstarfull  allstarfull         2   \n",
            "1  index  ix_allstarfull_index  allstarfull         3   \n",
            "2  table               schools      schools        26   \n",
            "3  index      ix_schools_index      schools        31   \n",
            "4  table               batting      batting        99   \n",
            "5  index      ix_batting_index      batting       100   \n",
            "\n",
            "                                                 sql  \n",
            "0  CREATE TABLE \"allstarfull\" (\\n\"index\" INTEGER,...  \n",
            "1  CREATE INDEX \"ix_allstarfull_index\"ON \"allstar...  \n",
            "2  CREATE TABLE \"schools\" (\\n\"index\" INTEGER,\\n  ...  \n",
            "3  CREATE INDEX \"ix_schools_index\"ON \"schools\" (\"...  \n",
            "4  CREATE TABLE \"batting\" (\\n\"index\" INTEGER,\\n  ...  \n",
            "5  CREATE INDEX \"ix_batting_index\"ON \"batting\" (\"...  \n"
          ]
        }
      ]
    },
    {
      "cell_type": "code",
      "source": [
        "#  Join and analyze the tables to evaluate the top 3 all time best baseball players\n",
        "best_query = \"\"\"\n",
        "SELECT playerID, sum(GP) AS num_games_played, AVG(startingPos) AS avg_starting_position\n",
        "    FROM allstarfull\n",
        "    GROUP BY playerID\n",
        "    ORDER BY num_games_played DESC, avg_starting_position ASC\n",
        "    LIMIT 3\n",
        "\"\"\""
      ],
      "metadata": {
        "id": "biGNEsc_28kQ"
      },
      "execution_count": 17,
      "outputs": []
    },
    {
      "cell_type": "code",
      "source": [
        "best = pd.read_sql(best_query, con)\n",
        "print(best.head())"
      ],
      "metadata": {
        "colab": {
          "base_uri": "https://localhost:8080/"
        },
        "id": "1b_oM82G4Sn2",
        "outputId": "03cab093-98b8-4b8d-e041-2ee9f055476e"
      },
      "execution_count": 18,
      "outputs": [
        {
          "output_type": "stream",
          "name": "stdout",
          "text": [
            "    playerID  num_games_played  avg_starting_position\n",
            "0  musiast01              24.0               6.357143\n",
            "1   mayswi01              24.0               8.000000\n",
            "2  aaronha01              24.0               8.470588\n"
          ]
        }
      ]
    }
  ]
}