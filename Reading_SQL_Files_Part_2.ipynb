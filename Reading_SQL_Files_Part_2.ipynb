{
  "nbformat": 4,
  "nbformat_minor": 0,
  "metadata": {
    "colab": {
      "provenance": [],
      "authorship_tag": "ABX9TyPfhZChlS/lMJzhoSNCiynx",
      "include_colab_link": true
    },
    "kernelspec": {
      "name": "python3",
      "display_name": "Python 3"
    },
    "language_info": {
      "name": "python"
    }
  },
  "cells": [
    {
      "cell_type": "markdown",
      "metadata": {
        "id": "view-in-github",
        "colab_type": "text"
      },
      "source": [
        "<a href=\"https://colab.research.google.com/github/lynseybwisa/IBM-Machine-Learning/blob/read-data-part-2/Reading_SQL_Files_Part_2.ipynb\" target=\"_parent\"><img src=\"https://colab.research.google.com/assets/colab-badge.svg\" alt=\"Open In Colab\"/></a>"
      ]
    },
    {
      "cell_type": "code",
      "execution_count": null,
      "metadata": {
        "colab": {
          "base_uri": "https://localhost:8080/"
        },
        "id": "qGnbCMjl1egx",
        "outputId": "2338033c-e0f6-47ac-9004-a7e0649125b1"
      },
      "outputs": [
        {
          "output_type": "stream",
          "name": "stdout",
          "text": [
            "Drive already mounted at /content/drive; to attempt to forcibly remount, call drive.mount(\"/content/drive\", force_remount=True).\n"
          ]
        }
      ],
      "source": [
        "from google.colab import drive\n",
        "drive.mount('/content/drive')"
      ]
    },
    {
      "cell_type": "code",
      "source": [
        "import sqlite3 as sq3\n",
        "import pandas.io.sql as pds\n",
        "import pandas as pd"
      ],
      "metadata": {
        "id": "m3Xlmi-s10xA"
      },
      "execution_count": null,
      "outputs": []
    },
    {
      "cell_type": "markdown",
      "source": [
        "#creating variables"
      ],
      "metadata": {
        "id": "XrPQI9s22AQ8"
      }
    },
    {
      "cell_type": "code",
      "source": [
        "# Create a variable, `path`, containing the path to the `baseball.db` contained in `resources/`\n",
        "path = 'drive/MyDrive/Colab Notebooks/IBM:Machine Learning Course/data/baseball.db'"
      ],
      "metadata": {
        "id": "jbDx8nAi2Ehl"
      },
      "execution_count": null,
      "outputs": []
    },
    {
      "cell_type": "markdown",
      "source": [
        "#create db connection"
      ],
      "metadata": {
        "id": "pbrB7mdW2Pns"
      }
    },
    {
      "cell_type": "code",
      "source": [
        "con = sq3.Connection(path)"
      ],
      "metadata": {
        "id": "tTut_R0a2Rse"
      },
      "execution_count": null,
      "outputs": []
    },
    {
      "cell_type": "markdown",
      "source": [
        "#queries"
      ],
      "metadata": {
        "id": "cNHLtu-e2aIi"
      }
    },
    {
      "cell_type": "code",
      "source": [
        "query = \"\"\"\n",
        "SELECT *\n",
        "    FROM allstarfull\n",
        "    ;\n",
        "\"\"\""
      ],
      "metadata": {
        "id": "tdxeZYU62ZfL"
      },
      "execution_count": null,
      "outputs": []
    },
    {
      "cell_type": "code",
      "source": [
        "allstar_observations = pd.read_sql(query, con)"
      ],
      "metadata": {
        "id": "MPysIsc12hli"
      },
      "execution_count": null,
      "outputs": []
    },
    {
      "cell_type": "code",
      "source": [
        "# Create a variable, tables, which reads in all data from the table sqlite_master\n",
        "all_tables = pd.read_sql('SELECT * FROM sqlite_master', con)\n",
        "all_tables.head()"
      ],
      "metadata": {
        "colab": {
          "base_uri": "https://localhost:8080/",
          "height": 206
        },
        "id": "A30RDPyh2vxp",
        "outputId": "09c7e9cb-d85f-4f71-90fe-7ce855245967"
      },
      "execution_count": 19,
      "outputs": [
        {
          "output_type": "execute_result",
          "data": {
            "text/plain": [
              "    type                  name     tbl_name  rootpage  \\\n",
              "0  table           allstarfull  allstarfull         2   \n",
              "1  index  ix_allstarfull_index  allstarfull         3   \n",
              "2  table               schools      schools        26   \n",
              "3  index      ix_schools_index      schools        31   \n",
              "4  table               batting      batting        99   \n",
              "\n",
              "                                                 sql  \n",
              "0  CREATE TABLE \"allstarfull\" (\\n\"index\" INTEGER,...  \n",
              "1  CREATE INDEX \"ix_allstarfull_index\"ON \"allstar...  \n",
              "2  CREATE TABLE \"schools\" (\\n\"index\" INTEGER,\\n  ...  \n",
              "3  CREATE INDEX \"ix_schools_index\"ON \"schools\" (\"...  \n",
              "4  CREATE TABLE \"batting\" (\\n\"index\" INTEGER,\\n  ...  "
            ],
            "text/html": [
              "\n",
              "  <div id=\"df-7c8f0546-724b-4074-926e-b48766da7bb1\">\n",
              "    <div class=\"colab-df-container\">\n",
              "      <div>\n",
              "<style scoped>\n",
              "    .dataframe tbody tr th:only-of-type {\n",
              "        vertical-align: middle;\n",
              "    }\n",
              "\n",
              "    .dataframe tbody tr th {\n",
              "        vertical-align: top;\n",
              "    }\n",
              "\n",
              "    .dataframe thead th {\n",
              "        text-align: right;\n",
              "    }\n",
              "</style>\n",
              "<table border=\"1\" class=\"dataframe\">\n",
              "  <thead>\n",
              "    <tr style=\"text-align: right;\">\n",
              "      <th></th>\n",
              "      <th>type</th>\n",
              "      <th>name</th>\n",
              "      <th>tbl_name</th>\n",
              "      <th>rootpage</th>\n",
              "      <th>sql</th>\n",
              "    </tr>\n",
              "  </thead>\n",
              "  <tbody>\n",
              "    <tr>\n",
              "      <th>0</th>\n",
              "      <td>table</td>\n",
              "      <td>allstarfull</td>\n",
              "      <td>allstarfull</td>\n",
              "      <td>2</td>\n",
              "      <td>CREATE TABLE \"allstarfull\" (\\n\"index\" INTEGER,...</td>\n",
              "    </tr>\n",
              "    <tr>\n",
              "      <th>1</th>\n",
              "      <td>index</td>\n",
              "      <td>ix_allstarfull_index</td>\n",
              "      <td>allstarfull</td>\n",
              "      <td>3</td>\n",
              "      <td>CREATE INDEX \"ix_allstarfull_index\"ON \"allstar...</td>\n",
              "    </tr>\n",
              "    <tr>\n",
              "      <th>2</th>\n",
              "      <td>table</td>\n",
              "      <td>schools</td>\n",
              "      <td>schools</td>\n",
              "      <td>26</td>\n",
              "      <td>CREATE TABLE \"schools\" (\\n\"index\" INTEGER,\\n  ...</td>\n",
              "    </tr>\n",
              "    <tr>\n",
              "      <th>3</th>\n",
              "      <td>index</td>\n",
              "      <td>ix_schools_index</td>\n",
              "      <td>schools</td>\n",
              "      <td>31</td>\n",
              "      <td>CREATE INDEX \"ix_schools_index\"ON \"schools\" (\"...</td>\n",
              "    </tr>\n",
              "    <tr>\n",
              "      <th>4</th>\n",
              "      <td>table</td>\n",
              "      <td>batting</td>\n",
              "      <td>batting</td>\n",
              "      <td>99</td>\n",
              "      <td>CREATE TABLE \"batting\" (\\n\"index\" INTEGER,\\n  ...</td>\n",
              "    </tr>\n",
              "  </tbody>\n",
              "</table>\n",
              "</div>\n",
              "      <button class=\"colab-df-convert\" onclick=\"convertToInteractive('df-7c8f0546-724b-4074-926e-b48766da7bb1')\"\n",
              "              title=\"Convert this dataframe to an interactive table.\"\n",
              "              style=\"display:none;\">\n",
              "        \n",
              "  <svg xmlns=\"http://www.w3.org/2000/svg\" height=\"24px\"viewBox=\"0 0 24 24\"\n",
              "       width=\"24px\">\n",
              "    <path d=\"M0 0h24v24H0V0z\" fill=\"none\"/>\n",
              "    <path d=\"M18.56 5.44l.94 2.06.94-2.06 2.06-.94-2.06-.94-.94-2.06-.94 2.06-2.06.94zm-11 1L8.5 8.5l.94-2.06 2.06-.94-2.06-.94L8.5 2.5l-.94 2.06-2.06.94zm10 10l.94 2.06.94-2.06 2.06-.94-2.06-.94-.94-2.06-.94 2.06-2.06.94z\"/><path d=\"M17.41 7.96l-1.37-1.37c-.4-.4-.92-.59-1.43-.59-.52 0-1.04.2-1.43.59L10.3 9.45l-7.72 7.72c-.78.78-.78 2.05 0 2.83L4 21.41c.39.39.9.59 1.41.59.51 0 1.02-.2 1.41-.59l7.78-7.78 2.81-2.81c.8-.78.8-2.07 0-2.86zM5.41 20L4 18.59l7.72-7.72 1.47 1.35L5.41 20z\"/>\n",
              "  </svg>\n",
              "      </button>\n",
              "      \n",
              "  <style>\n",
              "    .colab-df-container {\n",
              "      display:flex;\n",
              "      flex-wrap:wrap;\n",
              "      gap: 12px;\n",
              "    }\n",
              "\n",
              "    .colab-df-convert {\n",
              "      background-color: #E8F0FE;\n",
              "      border: none;\n",
              "      border-radius: 50%;\n",
              "      cursor: pointer;\n",
              "      display: none;\n",
              "      fill: #1967D2;\n",
              "      height: 32px;\n",
              "      padding: 0 0 0 0;\n",
              "      width: 32px;\n",
              "    }\n",
              "\n",
              "    .colab-df-convert:hover {\n",
              "      background-color: #E2EBFA;\n",
              "      box-shadow: 0px 1px 2px rgba(60, 64, 67, 0.3), 0px 1px 3px 1px rgba(60, 64, 67, 0.15);\n",
              "      fill: #174EA6;\n",
              "    }\n",
              "\n",
              "    [theme=dark] .colab-df-convert {\n",
              "      background-color: #3B4455;\n",
              "      fill: #D2E3FC;\n",
              "    }\n",
              "\n",
              "    [theme=dark] .colab-df-convert:hover {\n",
              "      background-color: #434B5C;\n",
              "      box-shadow: 0px 1px 3px 1px rgba(0, 0, 0, 0.15);\n",
              "      filter: drop-shadow(0px 1px 2px rgba(0, 0, 0, 0.3));\n",
              "      fill: #FFFFFF;\n",
              "    }\n",
              "  </style>\n",
              "\n",
              "      <script>\n",
              "        const buttonEl =\n",
              "          document.querySelector('#df-7c8f0546-724b-4074-926e-b48766da7bb1 button.colab-df-convert');\n",
              "        buttonEl.style.display =\n",
              "          google.colab.kernel.accessAllowed ? 'block' : 'none';\n",
              "\n",
              "        async function convertToInteractive(key) {\n",
              "          const element = document.querySelector('#df-7c8f0546-724b-4074-926e-b48766da7bb1');\n",
              "          const dataTable =\n",
              "            await google.colab.kernel.invokeFunction('convertToInteractive',\n",
              "                                                     [key], {});\n",
              "          if (!dataTable) return;\n",
              "\n",
              "          const docLinkHtml = 'Like what you see? Visit the ' +\n",
              "            '<a target=\"_blank\" href=https://colab.research.google.com/notebooks/data_table.ipynb>data table notebook</a>'\n",
              "            + ' to learn more about interactive tables.';\n",
              "          element.innerHTML = '';\n",
              "          dataTable['output_type'] = 'display_data';\n",
              "          await google.colab.output.renderOutput(dataTable, element);\n",
              "          const docLink = document.createElement('div');\n",
              "          docLink.innerHTML = docLinkHtml;\n",
              "          element.appendChild(docLink);\n",
              "        }\n",
              "      </script>\n",
              "    </div>\n",
              "  </div>\n",
              "  "
            ]
          },
          "metadata": {},
          "execution_count": 19
        }
      ]
    },
    {
      "cell_type": "code",
      "source": [
        "#  Join and analyze the tables to evaluate the top 3 all time best baseball players\n",
        "best_query = \"\"\"\n",
        "SELECT playerID, sum(GP) AS num_games_played, AVG(startingPos) AS avg_starting_position\n",
        "    FROM allstarfull\n",
        "    GROUP BY playerID\n",
        "    ORDER BY num_games_played DESC, avg_starting_position ASC\n",
        "    LIMIT 3\n",
        "\"\"\""
      ],
      "metadata": {
        "id": "biGNEsc_28kQ"
      },
      "execution_count": null,
      "outputs": []
    },
    {
      "cell_type": "code",
      "source": [
        "best = pd.read_sql(best_query, con)\n",
        "print(best.head())"
      ],
      "metadata": {
        "colab": {
          "base_uri": "https://localhost:8080/"
        },
        "id": "1b_oM82G4Sn2",
        "outputId": "03cab093-98b8-4b8d-e041-2ee9f055476e"
      },
      "execution_count": null,
      "outputs": [
        {
          "output_type": "stream",
          "name": "stdout",
          "text": [
            "    playerID  num_games_played  avg_starting_position\n",
            "0  musiast01              24.0               6.357143\n",
            "1   mayswi01              24.0               8.000000\n",
            "2  aaronha01              24.0               8.470588\n"
          ]
        }
      ]
    }
  ]
}